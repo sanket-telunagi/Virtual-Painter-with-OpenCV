{
 "cells": [
  {
   "cell_type": "code",
   "execution_count": 2,
   "metadata": {},
   "outputs": [],
   "source": [
    "# Importing modules\n",
    "import mediapipe as mp\n",
    "import cv2\n",
    "import numpy as np\n",
    "import os"
   ]
  },
  {
   "cell_type": "code",
   "execution_count": 3,
   "metadata": {},
   "outputs": [],
   "source": [
    "mp_drawing = mp.solutions.drawing_utils\n",
    "mp_hands = mp.solutions.hands"
   ]
  },
  {
   "cell_type": "code",
   "execution_count": 28,
   "metadata": {},
   "outputs": [],
   "source": [
    "cap = cv2.VideoCapture(0)\n",
    "with mp_hands.Hands(min_detection_confidence=0.8, min_tracking_confidence = 0.5) as hands :\n",
    "    counter = 0\n",
    "    while cap.isOpened() and counter != 500:\n",
    "        ret,frame = cap.read()\n",
    "\n",
    "        # flipping image\n",
    "        frame = cv2.flip(frame,1)\n",
    "\n",
    "        # BGR to RGB\n",
    "        img = cv2.cvtColor(frame,cv2.COLOR_BGR2RGB)\n",
    "\n",
    "        # Set flag\n",
    "        img.flags.writeable = False\n",
    "\n",
    "        # Detections \n",
    "        results = hands.process(img)\n",
    "\n",
    "        # set flag to true \n",
    "        img.flags.writeable = True\n",
    "\n",
    "        # RGB 2 BGR\n",
    "        img = cv2.cvtColor(img,cv2.COLOR_RGB2BGR)\n",
    "\n",
    "        # detections \n",
    "        # print(results)\n",
    "\n",
    "        # Rendering results\n",
    "        if results.multi_hand_landmarks:\n",
    "            for num,hand in enumerate(results.multi_hand_landmarks) :\n",
    "                mp_drawing.draw_landmarks(img,hand,mp_hands.HAND_CONNECTIONS , \n",
    "                    mp_drawing.DrawingSpec(color=(0,230,0),thickness=1, circle_radius=2) ,  \n",
    "                        mp_drawing.DrawingSpec(color=(0,0,230),thickness=2, circle_radius=2))\n",
    "\n",
    "        # Showing image\n",
    "        cv2.imshow(\"Hand Tracking\",img)\n",
    "\n",
    "        if cv2.waitKey(10) & 0xFF == ord('q') :\n",
    "            break\n",
    "        counter += 1\n",
    "\n",
    "cap.release()\n",
    "cv2.destroyAllWindows()"
   ]
  }
 ],
 "metadata": {
  "kernelspec": {
   "display_name": "Python 3.10.8 64-bit",
   "language": "python",
   "name": "python3"
  },
  "language_info": {
   "codemirror_mode": {
    "name": "ipython",
    "version": 3
   },
   "file_extension": ".py",
   "mimetype": "text/x-python",
   "name": "python",
   "nbconvert_exporter": "python",
   "pygments_lexer": "ipython3",
   "version": "3.10.8"
  },
  "orig_nbformat": 4,
  "vscode": {
   "interpreter": {
    "hash": "e7370f93d1d0cde622a1f8e1c04877d8463912d04d973331ad4851f04de6915a"
   }
  }
 },
 "nbformat": 4,
 "nbformat_minor": 2
}
